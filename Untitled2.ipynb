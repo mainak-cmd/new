{
 "cells": [
  {
   "cell_type": "markdown",
   "id": "42a610b4",
   "metadata": {},
   "source": [
    "### Fast API"
   ]
  },
  {
   "cell_type": "code",
   "execution_count": null,
   "id": "22af8544",
   "metadata": {},
   "outputs": [],
   "source": []
  }
 ],
 "metadata": {
  "kernelspec": {
   "display_name": "Paddel_ocr_1",
   "language": "python",
   "name": "paddel_ocr_1"
  },
  "language_info": {
   "codemirror_mode": {
    "name": "ipython",
    "version": 3
   },
   "file_extension": ".py",
   "mimetype": "text/x-python",
   "name": "python",
   "nbconvert_exporter": "python",
   "pygments_lexer": "ipython3",
   "version": "3.11.3"
  }
 },
 "nbformat": 4,
 "nbformat_minor": 5
}
