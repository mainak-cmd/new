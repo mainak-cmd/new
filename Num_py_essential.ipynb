{
 "cells": [
  {
   "cell_type": "markdown",
   "id": "947a9b02",
   "metadata": {},
   "source": [
    "## Numpy "
   ]
  },
  {
   "cell_type": "code",
   "execution_count": null,
   "id": "a3e21239",
   "metadata": {},
   "outputs": [],
   "source": [
    "import numpy as np"
   ]
  },
  {
   "cell_type": "code",
   "execution_count": null,
   "id": "1245badf",
   "metadata": {},
   "outputs": [],
   "source": [
    "a1D = np.array([1, 2, 3, 4]) #'[] 1d array'\n",
    "a2D = np.array([[1, 2], [3, 4]])#'[[]]'2d array'\n",
    "a3D = np.array([[[1, 2], [3, 4]], [[5, 6], [7, 8]]])#'[[[]]]'3d array"
   ]
  },
  {
   "cell_type": "markdown",
   "id": "bcdcb204",
   "metadata": {},
   "source": [
    "### Data type"
   ]
  },
  {
   "cell_type": "markdown",
   "id": "2b2187ff",
   "metadata": {},
   "source": [
    "bool: Boolean type storing True or False values.\n",
    "    \n",
    "\n",
    "int8, int16, int32, int64: Integer types with different sizes (in bits): 8-bit, 16-bit, 32-bit, and 64-bit, respectively.\n",
    "        \n",
    "\n",
    "uint8, uint16, uint32, uint64: Unsigned integer types with different sizes: 8-bit, 16-bit, 32-bit, and 64-bit, respectively.\n",
    "        \n",
    "\n",
    "float16, float32, float64: Floating-point types with different precision: 16-bit, 32-bit, and 64-bit, respectively.\n",
    "        \n",
    "\n",
    "complex64, complex128: Complex number types with different precision: 64-bit and 128-bit, respectively.\n",
    "        \n",
    "\n",
    "object: Python object type, allowing any Python object to be stored in the array.\n",
    "    \n",
    "\n",
    "string_: Fixed-length string type.\n",
    "    \n",
    "\n",
    "unicode_: Fixed-length Unicode type."
   ]
  },
  {
   "cell_type": "code",
   "execution_count": null,
   "id": "008f159f",
   "metadata": {},
   "outputs": [
    {
     "name": "stdout",
     "output_type": "stream",
     "text": [
      "[2 3 4]\n"
     ]
    }
   ],
   "source": [
    "a = np.array([2.45, 3.67, 4.56], dtype=np.int64)\n",
    "print(a)"
   ]
  },
  {
   "cell_type": "markdown",
   "id": "f073a0e1",
   "metadata": {},
   "source": [
    "### Oparation On 2d array"
   ]
  },
  {
   "cell_type": "code",
   "execution_count": null,
   "id": "603e048d",
   "metadata": {},
   "outputs": [
    {
     "name": "stdout",
     "output_type": "stream",
     "text": [
      "(3,)\n",
      "(3, 2)\n",
      "(2, 2, 2)\n"
     ]
    }
   ],
   "source": [
    "import numpy as np\n",
    "\n",
    "arr1 = np.array([1, 2, 3] ) #row 0  # 1-dimensional array\n",
    "print(arr1.shape)  # Output: (3,)\n",
    "#arr1 has shape (3,) indicating a 1-dimensional array with 3 elements,\n",
    "\n",
    "arr2 = np.array([\n",
    "                [1, 2],# row0\n",
    "                 [3, 4], #row 1\n",
    "                 [5, 6] #row 2\n",
    "                ])  # 2-dimensional array\n",
    "print(arr2.shape)  # Output: (3, 2)\n",
    "#arr2 has shape (3, 2) representing a 2-dimensional array with 3 rows and 2 columns, \n",
    "\n",
    "arr3 = np.array([[\n",
    "    #layer 1\n",
    "    [1, 2], #row 0\n",
    "    [3, 4]], #row 1\n",
    "    #layer 2\n",
    "    [[5, 6], #row 0\n",
    "     [7, 8]] #row 1\n",
    "    ])  # 3-dimensional array\n",
    "print(arr3.shape)\n",
    "# Output: (2, 2, 2)\n",
    "#arr3 has shape (2, 2, 2) indicating a 3-dimensional array with 2 layers, 2 rows, and 2 columns."
   ]
  },
  {
   "cell_type": "markdown",
   "id": "99830b25",
   "metadata": {},
   "source": [
    "### Selecting Element of 2d array"
   ]
  },
  {
   "cell_type": "code",
   "execution_count": null,
   "id": "b016908a",
   "metadata": {},
   "outputs": [
    {
     "name": "stdout",
     "output_type": "stream",
     "text": [
      "[2 3]\n",
      "[3 4 5]\n",
      "[1 3 5]\n",
      "[[2 3]\n",
      " [5 6]]\n"
     ]
    }
   ],
   "source": [
    "import numpy as np\n",
    "\n",
    "arr = np.array([1, 2, 3, 4, 5])\n",
    " # 0  1  2  3  4\n",
    "# [1, 2, 3, 4, 5]\n",
    "# Select a slice from index 1 to index 3 (exclusive)\n",
    "print(arr[1:3])  # Output: [2 3]\n",
    "#[1, [2, 3], 4, 5]\n",
    "# Select elements from index 2 to the end\n",
    "print(arr[2:])  # Output: [3 4 5]\n",
    "# [1, 2, [3, 4, 5]]\n",
    "# Select every other element\n",
    "print(arr[::2])  # Output: [1 3 5]\n",
    "# we select every second element starting from the first element. \n",
    "#[[1], 2, [3], 4, [5]]\n",
    "# Select a slice from a multi-dimensional array\n",
    "arr2 = np.array([[1, 2, 3], [4, 5, 6]])\n",
    "print(arr2[:, 1:3])  # Output: [[2 3] [5 6]]"
   ]
  },
  {
   "cell_type": "code",
   "execution_count": null,
   "id": "e4fdad0b",
   "metadata": {},
   "outputs": [
    {
     "name": "stdout",
     "output_type": "stream",
     "text": [
      "[0 3 6 9]\n",
      "[1 4 7]\n",
      "[1 2 3 4 5 6 7 8 9]\n"
     ]
    }
   ],
   "source": [
    "\n",
    "arr = np.array([0,1, 2, 3,4,5,6,7,8,9] )\n",
    "print(arr[::3])  # Output: [0 3 6 9]\n",
    "print(arr[1::3])  # Output: [1 4 7]\n",
    "print(arr[1::])  # Output: [1 2 3 4 5 6 7 8 9]\n",
    "#  0th element  1st element   2nd element  3rd element   4th element\n",
    "               # 0th element  1st element   2nd element  3rd element   4th element\n",
    "                             # 0th element  1st element   2nd element  3rd element   4th element\n",
    "                                           # 0th element  1st element   2nd element  3rd element   4th element\n",
    "                                                         # 0th element  1st element   2nd element  3rd element   4th element\n",
    "# [[1],             2,               [3],          4,           [5]]"
   ]
  },
  {
   "cell_type": "code",
   "execution_count": null,
   "id": "b3966727",
   "metadata": {},
   "outputs": [
    {
     "name": "stdout",
     "output_type": "stream",
     "text": [
      "[ 0 20  2  3  4  5  6  7  8  9]\n"
     ]
    }
   ],
   "source": [
    "# Modifying elements\n",
    "arr[1] = 20\n",
    "print(arr)"
   ]
  },
  {
   "cell_type": "markdown",
   "id": "9c0d1a9d",
   "metadata": {},
   "source": [
    "### Reshape to 1d array"
   ]
  },
  {
   "cell_type": "code",
   "execution_count": null,
   "id": "c736ffb3",
   "metadata": {},
   "outputs": [
    {
     "name": "stdout",
     "output_type": "stream",
     "text": [
      "[[1 2 3]\n",
      " [4 5 6]]\n",
      "[1 2 3 4 5 6 7 8 9]\n"
     ]
    }
   ],
   "source": [
    "import numpy as np\n",
    "\n",
    "# Create a 1-dimensional array\n",
    "arr = np.array([1, 2, 3, 4, 5, 6])\n",
    "\n",
    "# Reshape the array into a 2x3 matrix\n",
    "reshaped_arr = arr.reshape(2, 3)\n",
    "\n",
    "print(reshaped_arr)\n",
    "\n",
    "\n",
    "# Create a multi-dimensional array\n",
    "arr = np.array([[1, 2, 3],\n",
    "                [4, 5, 6],\n",
    "                [7, 8, 9]])\n",
    "\n",
    "# Flatten the array using ravel\n",
    "flattened_arr = arr.ravel()\n",
    "\n",
    "print(flattened_arr)"
   ]
  },
  {
   "cell_type": "markdown",
   "id": "0198a262",
   "metadata": {},
   "source": [
    "### Array Oparation of any dim"
   ]
  },
  {
   "cell_type": "code",
   "execution_count": null,
   "id": "6e4745ef",
   "metadata": {},
   "outputs": [
    {
     "name": "stdout",
     "output_type": "stream",
     "text": [
      "21\n",
      "3.5\n",
      "6\n",
      "5\n"
     ]
    }
   ],
   "source": [
    "# Array operations\n",
    "print(arr.sum())      # Output: 156\n",
    "print(arr.mean())     # Output: 9.75\n",
    "print(arr.max())      # Output: 20\n",
    "print(arr.argmax())   # Output: 17 (index of the maximum element)"
   ]
  },
  {
   "cell_type": "markdown",
   "id": "a6e0616b",
   "metadata": {},
   "source": [
    "### 3 dim array"
   ]
  },
  {
   "cell_type": "code",
   "execution_count": null,
   "id": "21ca4b93",
   "metadata": {},
   "outputs": [
    {
     "name": "stdout",
     "output_type": "stream",
     "text": [
      "6\n",
      "[[ 2  5  8]\n",
      " [11 14 17]]\n",
      "[[10 11 12]\n",
      " [13 14 15]\n",
      " [16 17 18]]\n",
      "[[[ 1  2  3]\n",
      "  [ 4  5  6]\n",
      "  [ 7  8  9]]\n",
      "\n",
      " [[10 11 12]\n",
      "  [13 14 15]\n",
      "  [16 20 18]]]\n"
     ]
    }
   ],
   "source": [
    "import numpy as np\n",
    "\n",
    "# Create a 3D array\n",
    "arr = np.array([[#layer 0\n",
    "                     # COL2\n",
    "                [1, 2, 3],\n",
    "                 [4, 5, 6],#row 1\n",
    "                 [7, 8, 9]],\n",
    "                #Layer 1\n",
    "                [[10, 11, 12],\n",
    "                 [13, 14, 15],\n",
    "                 [16, 17, 18]]])\n",
    "\n",
    "# Accessing individual elements\n",
    "print(arr[0, 1, 2])  # Output: 6 #[layer ,row, colloumn] ,[layer0,row1,col2]\n",
    "\n",
    "# Slicing along each dimension\n",
    "print(arr[:, :, 1])  #(acsess two layer ,acsess col1)\n",
    "# Output:\n",
    "# [[ 2  5  8]\n",
    "#  [11 14 17]]\n",
    "\n",
    "print(arr[1, :, :])\n",
    "# Output:\n",
    "# [[10 11 12] #(acsess 1st layer only)\n",
    "#  [13 14 15]\n",
    "#  [16 17 18]]\n",
    "\n",
    "\n",
    "# Modifying elements\n",
    "arr[1, 2, 1] = 20\n",
    "print(arr)\n",
    "# Output:\n",
    "# [[[ 1  2  3]\n",
    "#   [ 4  5  6]\n",
    "#   [ 7  8  9]]\n",
    "#\n",
    "#  [[10 11 12]\n",
    "#   [13 14 15]\n",
    "#   [16 20 18]]]\n"
   ]
  },
  {
   "cell_type": "markdown",
   "id": "d32083e3",
   "metadata": {},
   "source": [
    "### Matrix calculation "
   ]
  },
  {
   "cell_type": "code",
   "execution_count": null,
   "id": "3a7b1527",
   "metadata": {},
   "outputs": [
    {
     "name": "stdout",
     "output_type": "stream",
     "text": [
      "[-4 -4]\n",
      "[[19 22]\n",
      " [43 50]]\n",
      "[[19 22]\n",
      " [43 50]]\n"
     ]
    }
   ],
   "source": [
    "import numpy as np\n",
    "\n",
    "# Create matrices\n",
    "A = np.array([[1, 2],\n",
    "              [3, 4]])\n",
    "\n",
    "B = np.array([[5, 6],\n",
    "              [7, 8]])\n",
    "\n",
    "# Matrix multiplication using @ operator\n",
    "C= A @ B\n",
    "\n",
    "# Matrix multiplication using np.dot()\n",
    "D = np.dot(A, B)\n",
    "\n",
    "# Element-wise addition\n",
    "E = A + B\n",
    "\n",
    "# Element-wise multiplication\n",
    "F = A * B\n",
    "\n",
    "# Transpose using np.transpose()\n",
    "G = np.transpose(A)\n",
    "\n",
    "cross_product = np.cross(A, B)\n",
    "\n",
    "print(cross_product)\n",
    "\n",
    "print(C)\n",
    "print(D)\n"
   ]
  },
  {
   "cell_type": "code",
   "execution_count": null,
   "id": "6c41a3cb",
   "metadata": {},
   "outputs": [],
   "source": [
    "print(\"gh\")"
   ]
  },
  {
   "cell_type": "markdown",
   "id": "b858f714",
   "metadata": {},
   "source": [
    "### Date calcualation"
   ]
  },
  {
   "cell_type": "code",
   "execution_count": 41,
   "id": "01d26e19",
   "metadata": {},
   "outputs": [
    {
     "name": "stdout",
     "output_type": "stream",
     "text": [
      "2021-07-08\n",
      "2021-06-24\n",
      "True\n",
      "False\n",
      "2021\n",
      "2021-07\n",
      "2021-07-01\n"
     ]
    }
   ],
   "source": [
    "import numpy as np\n",
    "\n",
    "# Perform arithmetic operations\n",
    "dt1 = np.datetime64('2021-07-01')\n",
    "dt2 = dt1 + np.timedelta64(7, 'D')  # Add 7 days\n",
    "dt3 = dt1 - np.timedelta64(1, 'W')  # Subtract 1 week\n",
    "\n",
    "print(dt2)  # Output: 2021-07-08\n",
    "print(dt3)  # Output: 2021-06-24\n",
    "\n",
    "# Compare dates\n",
    "dt4 = np.datetime64('2021-07-15')\n",
    "\n",
    "print(dt1 < dt4)  # Output: True\n",
    "print(dt2 == dt4)  # Output: False\n",
    "\n",
    "# Extract components of the date\n",
    "year = np.datetime64('2021-07-01', 'Y')\n",
    "month = np.datetime64('2021-07-01', 'M')\n",
    "day = np.datetime64('2021-07-01', 'D')\n",
    "\n",
    "print(year)  # Output: 2021\n",
    "print(month)  # Output: 2021-07\n",
    "print(day)  # Output: 2021-07-01"
   ]
  },
  {
   "cell_type": "markdown",
   "id": "fae25438",
   "metadata": {},
   "source": [
    "### Missing Value Imputation"
   ]
  },
  {
   "cell_type": "code",
   "execution_count": 42,
   "id": "158ca620",
   "metadata": {},
   "outputs": [
    {
     "name": "stdout",
     "output_type": "stream",
     "text": [
      "[1. 2. 3. 4. 5.]\n"
     ]
    }
   ],
   "source": [
    "import numpy as np\n",
    "\n",
    "# Create an array with missing values\n",
    "arr = np.array([1, 2, np.nan, 4, 5])\n",
    "\n",
    "# Calculate the mean of non-missing values\n",
    "mean = np.nanmean(arr)\n",
    "\n",
    "# Replace missing values with the mean\n",
    "arr[np.isnan(arr)] = mean\n",
    "\n",
    "print(arr)\n"
   ]
  },
  {
   "cell_type": "code",
   "execution_count": 48,
   "id": "9d2ed5e8",
   "metadata": {},
   "outputs": [
    {
     "name": "stdout",
     "output_type": "stream",
     "text": [
      "[1. 1. 3. 3. 5.]\n"
     ]
    }
   ],
   "source": [
    "import numpy as np\n",
    "\n",
    "# Create an array with missing values\n",
    "arr = np.array([1, np.nan, 3, np.nan, 5])\n",
    "\n",
    "# Forward fill missing values\n",
    "arr_filled = np.nan_to_num(arr, nan=-1, copy=True)\n",
    "np.maximum.accumulate(arr_filled, out=arr_filled)\n",
    "\n",
    "print(arr_filled)\n"
   ]
  },
  {
   "cell_type": "markdown",
   "id": "cf25411b",
   "metadata": {},
   "source": [
    "### File creation and load"
   ]
  },
  {
   "cell_type": "code",
   "execution_count": 49,
   "id": "11a86657",
   "metadata": {},
   "outputs": [
    {
     "name": "stdout",
     "output_type": "stream",
     "text": [
      "[1 2 3 4 5]\n"
     ]
    }
   ],
   "source": [
    "import numpy as np\n",
    "\n",
    "# Create a NumPy array\n",
    "arr = np.array([1, 2, 3, 4, 5])\n",
    "\n",
    "# Save the array to a file\n",
    "np.save('array_file.npy', arr)\n",
    "\n",
    "# Load the array from the file\n",
    "loaded_arr = np.load('array_file.npy')\n",
    "\n",
    "print(loaded_arr)"
   ]
  },
  {
   "cell_type": "code",
   "execution_count": null,
   "id": "f0427803",
   "metadata": {},
   "outputs": [],
   "source": []
  }
 ],
 "metadata": {
  "kernelspec": {
   "display_name": "Paddel_ocr_1",
   "language": "python",
   "name": "paddel_ocr_1"
  },
  "language_info": {
   "codemirror_mode": {
    "name": "ipython",
    "version": 3
   },
   "file_extension": ".py",
   "mimetype": "text/x-python",
   "name": "python",
   "nbconvert_exporter": "python",
   "pygments_lexer": "ipython3",
   "version": "3.11.3"
  }
 },
 "nbformat": 4,
 "nbformat_minor": 5
}
