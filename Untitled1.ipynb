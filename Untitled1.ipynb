{
 "cells": [
  {
   "cell_type": "raw",
   "id": "8936684b",
   "metadata": {},
   "source": [
    "What is CSS?\n",
    "\n",
    "CSS stands for Cascading Style Sheets\n",
    "\n",
    "CSS saves a lot of work. It can control the layout of multiple web pages all at once\n",
    "\n",
    "External stylesheets are stored in CSS files"
   ]
  },
  {
   "cell_type": "raw",
   "id": "bd18d0e1",
   "metadata": {},
   "source": [
    "A CSS rule consists of a selector and a declaration block."
   ]
  },
  {
   "cell_type": "raw",
   "id": "6a1d3edd",
   "metadata": {},
   "source": [
    "p is a selector in CSS (it points to the HTML element you want to style: <p> ).\n",
    "\n",
    "color is a property, and red is the property value\n",
    "\n",
    "text-align is a property, and center is the property value"
   ]
  },
  {
   "cell_type": "raw",
   "id": "4f624a33",
   "metadata": {},
   "source": [
    "CSS Selectors"
   ]
  },
  {
   "cell_type": "raw",
   "id": "7356024b",
   "metadata": {},
   "source": [
    "CSS selectors are used to \"find\" (or select) the HTML elements you want to style."
   ]
  },
  {
   "cell_type": "code",
   "execution_count": null,
   "id": "37c69318",
   "metadata": {},
   "outputs": [],
   "source": [
    "Simple selectors (select elements based on name, id, class)"
   ]
  },
  {
   "cell_type": "code",
   "execution_count": 8,
   "id": "e020c278",
   "metadata": {},
   "outputs": [
    {
     "data": {
      "text/html": [
       "<html>\n",
       "<head>\n",
       "<style>\n",
       "p {\n",
       "  text-align: center;\n",
       "  color: green;\n",
       "} \n",
       "</style>\n",
       "</head>\n",
       "<body>\n",
       "\n",
       "<p>Every paragraph will be affected by the style.</p>\n",
       "<p id=\"para1\">Me too!</p>\n",
       "<p>And me!</p>\n",
       "\n",
       "</body>\n",
       "</html>\n"
      ],
      "text/plain": [
       "<IPython.core.display.HTML object>"
      ]
     },
     "metadata": {},
     "output_type": "display_data"
    }
   ],
   "source": [
    "%%html\n",
    "<html>\n",
    "<head>\n",
    "<style>\n",
    "p {\n",
    "  text-align: center;\n",
    "  color: green;\n",
    "} \n",
    "</style>\n",
    "</head>\n",
    "<body>\n",
    "\n",
    "<p>Every paragraph will be affected by the style.</p>\n",
    "<p id=\"para1\">Me too!</p>\n",
    "<p>And me!</p>\n",
    "\n",
    "</body>\n",
    "</html>"
   ]
  },
  {
   "cell_type": "code",
   "execution_count": null,
   "id": "a6c30609",
   "metadata": {},
   "outputs": [],
   "source": [
    "The CSS id Selector"
   ]
  },
  {
   "cell_type": "code",
   "execution_count": 10,
   "id": "b5a44463",
   "metadata": {},
   "outputs": [
    {
     "data": {
      "text/html": [
       "<head>\n",
       "<style>\n",
       "#para1 {\n",
       "  text-align: center;\n",
       "  color: red;\n",
       "}\n",
       "</style>\n",
       "</head>\n",
       "<body>\n",
       "\n",
       "<p id=\"para1\">Hello World!</p>\n",
       "<p>This paragraph is not affected by the style.</p>\n",
       "\n",
       "</body>\n",
       "</html>\n"
      ],
      "text/plain": [
       "<IPython.core.display.HTML object>"
      ]
     },
     "metadata": {},
     "output_type": "display_data"
    }
   ],
   "source": [
    "%%html\n",
    "<head>\n",
    "<style>\n",
    "#para1 {\n",
    "  text-align: center;\n",
    "  color: red;\n",
    "}\n",
    "</style>\n",
    "</head>\n",
    "<body>\n",
    "\n",
    "<p id=\"para1\">Hello World!</p>\n",
    "<p>This paragraph is not affected by the style.</p>\n",
    "\n",
    "</body>\n",
    "</html>"
   ]
  },
  {
   "cell_type": "markdown",
   "id": "5fd9eab7",
   "metadata": {},
   "source": [
    "The CSS class Selector\n",
    "\n",
    "The class selector selects HTML elements with a specific class attribute.\n",
    "To select elements with a specific class, write a period (.) character, followed by the class name."
   ]
  },
  {
   "cell_type": "code",
   "execution_count": 11,
   "id": "f144e622",
   "metadata": {},
   "outputs": [
    {
     "data": {
      "text/html": [
       "<html>\n",
       "<head>\n",
       "<style>\n",
       "p.center {\n",
       "  text-align: center;\n",
       "  color: red;\n",
       "}\n",
       "</style>\n",
       "</head>\n",
       "<body>\n",
       "\n",
       "<h1 class=\"center\">This heading will not be affected</h1>\n",
       "<p class=\"center\">This paragraph will be red and center-aligned.</p> \n",
       "\n",
       "</body>\n",
       "</html>\n"
      ],
      "text/plain": [
       "<IPython.core.display.HTML object>"
      ]
     },
     "metadata": {},
     "output_type": "display_data"
    }
   ],
   "source": [
    "%%html\n",
    "<html>\n",
    "<head>\n",
    "<style>\n",
    "p.center {\n",
    "  text-align: center;\n",
    "  color: red;\n",
    "}\n",
    "</style>\n",
    "</head>\n",
    "<body>\n",
    "\n",
    "<h1 class=\"center\">This heading will not be affected</h1>\n",
    "<p class=\"center\">This paragraph will be red and center-aligned.</p> \n",
    "\n",
    "</body>\n",
    "</html>"
   ]
  },
  {
   "cell_type": "code",
   "execution_count": null,
   "id": "53045041",
   "metadata": {},
   "outputs": [],
   "source": []
  },
  {
   "cell_type": "code",
   "execution_count": 19,
   "id": "04766f6f",
   "metadata": {},
   "outputs": [
    {
     "data": {
      "text/html": [
       "<html>\n",
       "<head>\n",
       "<style>\n",
       "p.center {\n",
       "  text-align: center;\n",
       "  color:red;\n",
       "}\n",
       "\n",
       "p.large {\n",
       "  font-size: 300%;\n",
       "}\n",
       "\n",
       "p.white{\n",
       "    font-size: 200%;\n",
       "}\n",
       "</style>\n",
       "</head>\n",
       "<body>\n",
       "\n",
       "<h1 class=\"center\">This heading will not be affected</h1>\n",
       "<p class=\"center\">This paragraph will be red and center-aligned.</p>\n",
       "<p class=\"center large\">This paragraph will be red, center-aligned, and in a large font-size.</p> \n",
       "<p class=\"center white\">This paragraph will be red, center-aligned, and in a large font-size.</p> \n",
       "\n",
       "\n",
       "</body>\n",
       "</html>\n"
      ],
      "text/plain": [
       "<IPython.core.display.HTML object>"
      ]
     },
     "metadata": {},
     "output_type": "display_data"
    }
   ],
   "source": [
    "%%html\n",
    "<html>\n",
    "<head>\n",
    "<style>\n",
    "p.center {\n",
    "  text-align: center;\n",
    "}\n",
    "\n",
    "p.large {\n",
    "  font-size: 300%;\n",
    "}\n",
    "\n",
    "p.white{\n",
    "    font-size: 200%;\n",
    "}\n",
    "</style>\n",
    "</head>\n",
    "<body>\n",
    "\n",
    "<h1 class=\"center\">This heading will not be affected</h1>\n",
    "<p class=\"center\">This paragraph will be red and center-aligned.</p>\n",
    "<p class=\"center large\">This paragraph will be red, center-aligned, and in a large font-size.</p> \n",
    "<p class=\"center white\">This paragraph will be red, center-aligned, and in a large font-size.</p> \n",
    "\n",
    "\n",
    "</body>\n",
    "</html>"
   ]
  },
  {
   "cell_type": "code",
   "execution_count": 17,
   "id": "1f536337",
   "metadata": {},
   "outputs": [
    {
     "data": {
      "text/html": [
       "<html>\n",
       "<head>\n",
       "<link rel=\"stylesheet\" href=\"mystyle.css\">\n",
       "</head>\n",
       "<body>\n",
       "\n",
       "<h1>This is a heading</h1>\n",
       "<p>This is a paragraph.</p>\n",
       "\n",
       "</body>\n",
       "</html>\n"
      ],
      "text/plain": [
       "<IPython.core.display.HTML object>"
      ]
     },
     "metadata": {},
     "output_type": "display_data"
    }
   ],
   "source": [
    "%%html\n",
    "<html>\n",
    "<head>\n",
    "<link rel=\"stylesheet\" href=\"mystyle.css\">\n",
    "</head>\n",
    "<body>\n",
    "\n",
    "<h1>This is a heading</h1>\n",
    "<p>This is a paragraph.</p>\n",
    "\n",
    "</body>\n",
    "</html>\n"
   ]
  },
  {
   "cell_type": "code",
   "execution_count": 20,
   "id": "786d20fd",
   "metadata": {},
   "outputs": [
    {
     "data": {
      "text/html": [
       "<head>\n",
       "<style>\n",
       "h1, h2, p {\n",
       "  text-align: center;\n",
       "  color: red;\n",
       "}\n",
       "</style>\n",
       "</head>\n",
       "<body>\n",
       "\n",
       "<h1>Hello World!</h1>\n",
       "<h2>Smaller heading!</h2>\n",
       "<p>This is a paragraph.</p>\n",
       "\n",
       "</body>\n",
       "</html>\n"
      ],
      "text/plain": [
       "<IPython.core.display.HTML object>"
      ]
     },
     "metadata": {},
     "output_type": "display_data"
    }
   ],
   "source": [
    "%%html\n",
    "<head>\n",
    "<style>\n",
    "h1, h2, p {\n",
    "  text-align: center;\n",
    "  color: red;\n",
    "}\n",
    "</style>\n",
    "</head>\n",
    "<body>\n",
    "\n",
    "<h1>Hello World!</h1>\n",
    "<h2>Smaller heading!</h2>\n",
    "<p>This is a paragraph.</p>\n",
    "\n",
    "</body>\n",
    "</html>\n"
   ]
  },
  {
   "cell_type": "markdown",
   "id": "a6f2c09a",
   "metadata": {},
   "source": [
    "### How To Add CSS"
   ]
  },
  {
   "cell_type": "markdown",
   "id": "6569f476",
   "metadata": {},
   "source": [
    "External CSS\n",
    "\n",
    "Internal CSS\n",
    "\n",
    "Inline CSS"
   ]
  },
  {
   "cell_type": "code",
   "execution_count": 21,
   "id": "b32647d8",
   "metadata": {},
   "outputs": [
    {
     "data": {
      "text/html": [
       "<html>\n",
       "<head>\n",
       "<link rel=\"stylesheet\" href=\"mystyle.css\">\n",
       "</head>\n",
       "<body>\n",
       "\n",
       "<h1>This is a heading</h1>\n",
       "<p>This is a paragraph.</p>\n",
       "\n",
       "</body>\n",
       "</html>\n"
      ],
      "text/plain": [
       "<IPython.core.display.HTML object>"
      ]
     },
     "metadata": {},
     "output_type": "display_data"
    }
   ],
   "source": [
    "%%html\n",
    "<html>\n",
    "<head>\n",
    "<link rel=\"stylesheet\" href=\"mystyle.css\">\n",
    "</head>\n",
    "<body>\n",
    "\n",
    "<h1>This is a heading</h1>\n",
    "<p>This is a paragraph.</p>\n",
    "\n",
    "</body>\n",
    "</html>"
   ]
  },
  {
   "cell_type": "raw",
   "id": "86a3201d",
   "metadata": {},
   "source": [
    "All HTML documents must start with a <!DOCTYPE> declaration.\n",
    "\n",
    "The declaration is not an HTML tag. It is an \"information\" to the browser about what document type to expect.\n",
    "\n",
    "In HTML 5, the declaration is simple:"
   ]
  },
  {
   "cell_type": "raw",
   "id": "009364b0",
   "metadata": {},
   "source": [
    "The <a> tag defines a hyperlink, which is used to link from one page to another.\n",
    "\n",
    "The <abbr> tag defines an abbreviation or an acronym, like \"HTML\", \"CSS\", \"Mr.\", \"Dr.\", \"ASAP\", \"ATM\".\n",
    "\n"
   ]
  },
  {
   "cell_type": "raw",
   "id": "fcdd7637",
   "metadata": {},
   "source": [
    "HTML <div> Tag"
   ]
  },
  {
   "cell_type": "markdown",
   "id": "945d8bca",
   "metadata": {},
   "source": [
    "## Java Scripts"
   ]
  },
  {
   "cell_type": "code",
   "execution_count": null,
   "id": "d6ef3bb2",
   "metadata": {},
   "outputs": [],
   "source": []
  },
  {
   "cell_type": "code",
   "execution_count": 1,
   "id": "334e7e4f",
   "metadata": {},
   "outputs": [
    {
     "data": {
      "text/html": [
       "<html>\n",
       "<body>\n",
       "\n",
       "<h2>What Can JavaScript Do?</h2>\n",
       "\n",
       "<p id=\"demo\">JavaScript can change the style of an HTML element.</p>\n",
       "\n",
       "<button type=\"button\" onclick=\"document.getElementById('demo').style.fontSize='35px'\">Click Me!</button>\n",
       "\n",
       "</body>\n",
       "</html> \n"
      ],
      "text/plain": [
       "<IPython.core.display.HTML object>"
      ]
     },
     "metadata": {},
     "output_type": "display_data"
    }
   ],
   "source": [
    "%%html\n",
    "<html>\n",
    "<body>\n",
    "\n",
    "<h2>What Can JavaScript Do?</h2>\n",
    "\n",
    "<p id=\"demo\">JavaScript can change the style of an HTML element.</p>\n",
    "\n",
    "<button type=\"button\" onclick=\"document.getElementById('demo').style.fontSize='35px'\">Click Me!</button>\n",
    "\n",
    "</body>\n",
    "</html> \n"
   ]
  },
  {
   "cell_type": "markdown",
   "id": "ab57b31c",
   "metadata": {},
   "source": [
    "## The <script> Tag"
   ]
  },
  {
   "cell_type": "code",
   "execution_count": 2,
   "id": "8e393ad5",
   "metadata": {},
   "outputs": [
    {
     "data": {
      "text/html": [
       "<html>\n",
       "<body>\n",
       "\n",
       "<h2>JavaScript in Body</h2>\n",
       "\n",
       "<p id=\"demo\"></p>\n",
       "\n",
       "<script>\n",
       "document.getElementById(\"demo\").innerHTML = \"My First JavaScript\";\n",
       "</script>\n",
       "\n",
       "</body>\n",
       "</html> \n"
      ],
      "text/plain": [
       "<IPython.core.display.HTML object>"
      ]
     },
     "metadata": {},
     "output_type": "display_data"
    }
   ],
   "source": [
    "%%html\n",
    "<html>\n",
    "<body>\n",
    "\n",
    "<h2>JavaScript in Body</h2>\n",
    "\n",
    "<p id=\"demo\"></p>\n",
    "\n",
    "<script>\n",
    "document.getElementById(\"demo\").innerHTML = \"My First JavaScript\";\n",
    "</script>\n",
    "\n",
    "</body>\n",
    "</html> "
   ]
  },
  {
   "cell_type": "code",
   "execution_count": null,
   "id": "76edba8e",
   "metadata": {},
   "outputs": [],
   "source": [
    "Writing into an HTML element, using innerHTML.\n",
    "Writing into the HTML output using document.write().\n",
    "Writing into an alert box, using window.alert().\n",
    "Writing into the browser console, using console.log()."
   ]
  },
  {
   "cell_type": "code",
   "execution_count": 8,
   "id": "73bf2fd6",
   "metadata": {},
   "outputs": [
    {
     "data": {
      "text/html": [
       "<html>\n",
       "<body>\n",
       "\n",
       "<h2>JavaScript Statements</h2>\n",
       "\n",
       "<p>A <b>JavaScript program</b> is a list of <b>statements</b> to be executed by a computer.</p>\n",
       "\n",
       "<p id=\"demo\"></p>\n",
       "\n",
       "<script>\n",
       "let x, y, z;  // Statement 1\n",
       "x = 5;        // Statement 2\n",
       "y = 6;        // Statement 3\n",
       "z = x + y;    // Statement 4\n",
       "\n",
       "document.write(z);\n",
       "</script>\n",
       "\n",
       "</body>\n",
       "</html>\n"
      ],
      "text/plain": [
       "<IPython.core.display.HTML object>"
      ]
     },
     "metadata": {},
     "output_type": "display_data"
    }
   ],
   "source": [
    "%%html\n",
    "<html>\n",
    "<body>\n",
    "\n",
    "<h2>JavaScript Statements</h2>\n",
    "\n",
    "<p>A <b>JavaScript program</b> is a list of <b>statements</b> to be executed by a computer.</p>\n",
    "\n",
    "<p id=\"demo\"></p>\n",
    "\n",
    "<script>\n",
    "let x, y, z;  // Statement 1\n",
    "x = 5;        // Statement 2\n",
    "y = 6;        // Statement 3\n",
    "z = x + y;    // Statement 4\n",
    "\n",
    "document.write(z);\n",
    "</script>\n",
    "\n",
    "</body>\n",
    "</html>"
   ]
  },
  {
   "cell_type": "code",
   "execution_count": null,
   "id": "45c342ea",
   "metadata": {},
   "outputs": [],
   "source": []
  }
 ],
 "metadata": {
  "kernelspec": {
   "display_name": "Paddel_ocr_1",
   "language": "python",
   "name": "paddel_ocr_1"
  },
  "language_info": {
   "codemirror_mode": {
    "name": "ipython",
    "version": 3
   },
   "file_extension": ".py",
   "mimetype": "text/x-python",
   "name": "python",
   "nbconvert_exporter": "python",
   "pygments_lexer": "ipython3",
   "version": "3.11.3"
  }
 },
 "nbformat": 4,
 "nbformat_minor": 5
}
