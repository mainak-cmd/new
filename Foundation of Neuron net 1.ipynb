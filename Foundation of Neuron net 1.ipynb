{
 "cells": [
  {
   "cell_type": "markdown",
   "id": "c24c1818",
   "metadata": {},
   "source": [
    "## Ordinary Least Squares"
   ]
  },
  {
   "cell_type": "markdown",
   "id": "1abec920",
   "metadata": {},
   "source": [
    "y = β₀ + β₁x + ε\n",
    "\n",
    "Where:\n",
    "\n",
    "y is the dependent variable (the variable we want to predict).\n",
    "\n",
    "x is the independent variable (the predictor or explanatory variable).\n",
    "\n",
    "β₀ and β₁ are the coefficients (intercept and slope) of the regression model.\n",
    "\n",
    "ε is the error term, which accounts for the variability in the dependent variable that is not explained by the regression model."
   ]
  },
  {
   "cell_type": "markdown",
   "id": "40516889",
   "metadata": {},
   "source": [
    "#### ASSUMPTION"
   ]
  },
  {
   "cell_type": "code",
   "execution_count": null,
   "id": "89638d7b",
   "metadata": {},
   "outputs": [],
   "source": [
    "Linearity\n",
    "\n",
    "Independence of Errors\n",
    "\n",
    "Homoscedasticity:\n",
    "    \n",
    "Normality of Errors\n",
    "\n",
    "No Multicollinearity:\n",
    "\n",
    "No Endogeneity\n",
    "\n",
    "No Autocorrelation:"
   ]
  },
  {
   "cell_type": "code",
   "execution_count": 1,
   "id": "89e2b29e",
   "metadata": {},
   "outputs": [
    {
     "name": "stdout",
     "output_type": "stream",
     "text": [
      "Mean Squared Error: 0.5248587990487513\n",
      "R-squared Score: 0.9160225921521998\n"
     ]
    }
   ],
   "source": [
    "import numpy as np\n",
    "from sklearn.model_selection import train_test_split\n",
    "from sklearn.linear_model import LinearRegression\n",
    "from sklearn.metrics import mean_squared_error, r2_score\n",
    "\n",
    "# Sample data and target values\n",
    "X = np.array([1, 2, 3, 4, 5, 6, 7, 8, 9, 10]).reshape(-1, 1)  # Input features (reshaped to a column vector)\n",
    "y = np.array([2, 4, 5, 4, 5, 6, 8, 7, 9, 10])  # Target values\n",
    "\n",
    "# Split the dataset into training and testing subsets\n",
    "X_train, X_test, y_train, y_test = train_test_split(X, y, test_size=0.2, random_state=42)\n",
    "\n",
    "# Create and fit the LinearRegression model\n",
    "model = LinearRegression()\n",
    "model.fit(X_train, y_train)\n",
    "\n",
    "# Make predictions on the testing data\n",
    "y_pred = model.predict(X_test)\n",
    "\n",
    "# Evaluate the model's performance\n",
    "mse = mean_squared_error(y_test, y_pred)\n",
    "r2 = r2_score(y_test, y_pred)\n",
    "\n",
    "print(\"Mean Squared Error:\", mse)\n",
    "print(\"R-squared Score:\", r2)\n"
   ]
  },
  {
   "cell_type": "markdown",
   "id": "2f6b1900",
   "metadata": {},
   "source": [
    "### Perceptron"
   ]
  },
  {
   "cell_type": "markdown",
   "id": "2081802b",
   "metadata": {},
   "source": [
    "Let the learning rate be 0.1 for this single iteration.\n",
    "\n",
    "Step 1: Initialize weights and bias (w1 = 0.5, w2 = -0.5, b = 0.1).\n",
    "\n",
    "Step 2: Calculate the weighted sum (z) and predicted output (y_pred) for each training sample using the step activation function.\n",
    "\n",
    "Step 3: Check for misclassification by comparing the predicted output (y_pred) with the actual target.\n",
    "\n",
    "Step 4: Update the weights and bias if there is a misclassification using the Perceptron update rule."
   ]
  },
  {
   "cell_type": "markdown",
   "id": "b5dfa6fc",
   "metadata": {},
   "source": [
    "It does not require a learning rate.\n",
    "\n",
    "It is not regularized (penalized).\n",
    "\n",
    "It updates its model only on mistakes."
   ]
  },
  {
   "cell_type": "markdown",
   "id": "f659353f",
   "metadata": {},
   "source": [
    "#### ASSUMPTION"
   ]
  },
  {
   "cell_type": "markdown",
   "id": "a3a0553c",
   "metadata": {},
   "source": [
    "Linear Separability\n",
    "\n",
    "Binary Classification:\n",
    "\n",
    "Linear Combination of Features:\n",
    "\n",
    "Single Layer Architecture:\n",
    "    \n",
    "Immediate Updates:\n",
    "\n",
    "Convergence for Linearly Separable Data: "
   ]
  },
  {
   "cell_type": "code",
   "execution_count": 2,
   "id": "3464c8c7",
   "metadata": {},
   "outputs": [
    {
     "name": "stdout",
     "output_type": "stream",
     "text": [
      "Accuracy on the training data: 1.0\n",
      "Predicted labels for new data points: [1 1]\n"
     ]
    }
   ],
   "source": [
    "import numpy as np\n",
    "from sklearn.linear_model import Perceptron\n",
    "from sklearn.metrics import accuracy_score\n",
    "\n",
    "# Sample data and target values for binary classification\n",
    "X = np.array([[2, 3], [3, 6], [4, 8], [2, 1], [5, 2], [8, 5]])\n",
    "y = np.array([1, 1, 1, -1, -1, -1])\n",
    "\n",
    "# Create and fit the Perceptron model\n",
    "model = Perceptron()\n",
    "model.fit(X, y)\n",
    "\n",
    "# Make predictions on the same training data\n",
    "y_pred = model.predict(X)\n",
    "\n",
    "# Calculate accuracy on the training data (for demonstration purposes only)\n",
    "accuracy = accuracy_score(y, y_pred)\n",
    "print(\"Accuracy on the training data:\", accuracy)\n",
    "\n",
    "# Test the model on new data points\n",
    "new_data = np.array([[6, 7], [1, 2]])\n",
    "predicted_labels = model.predict(new_data)\n",
    "\n",
    "print(\"Predicted labels for new data points:\", predicted_labels)\n"
   ]
  },
  {
   "cell_type": "markdown",
   "id": "1aa274ce",
   "metadata": {},
   "source": [
    "## MLP"
   ]
  },
  {
   "cell_type": "markdown",
   "id": "a7614669",
   "metadata": {},
   "source": [
    "Input-Output Relationship:\n",
    "\n",
    "Large Amounts of Data: \n",
    "\n",
    "Feature Scaling: \n",
    "    \n",
    "Random Weight Initialization:\n",
    "    \n",
    "Activation Functions: \n",
    "\n",
    "Backpropagation and Optimization:\n",
    "\n",
    "Regularization:\n",
    "\n",
    "Shuffling Data:\n",
    "\n",
    "Stochasticity in Optimization\n",
    "\n",
    "Choice of Hyperparameters:"
   ]
  },
  {
   "cell_type": "code",
   "execution_count": 6,
   "id": "2d9908fa",
   "metadata": {},
   "outputs": [
    {
     "name": "stdout",
     "output_type": "stream",
     "text": [
      "Accuracy on the testing data: 0.5\n"
     ]
    },
    {
     "name": "stderr",
     "output_type": "stream",
     "text": [
      "C:\\Users\\USER\\Desktop\\paddel_ocr_1\\Lib\\site-packages\\sklearn\\neural_network\\_multilayer_perceptron.py:686: ConvergenceWarning: Stochastic Optimizer: Maximum iterations (200) reached and the optimization hasn't converged yet.\n",
      "  warnings.warn(\n"
     ]
    }
   ],
   "source": [
    "import numpy as np\n",
    "from sklearn.neural_network import MLPClassifier\n",
    "from sklearn.model_selection import train_test_split\n",
    "from sklearn.metrics import accuracy_score\n",
    "\n",
    "# Sample data and target values for binary classification\n",
    "X = np.array([[2, 3], [3, 6], [4, 8], [2, 1], [5, 2], [8, 5]])\n",
    "y = np.array([0, 0, 0, 1, 1, 1])\n",
    "\n",
    "# Split the dataset into training and testing subsets\n",
    "X_train, X_test, y_train, y_test = train_test_split(X, y, test_size=0.2 , random_state=42)\n",
    "\n",
    "# Create and fit the MLPClassifier mode\n",
    "model = MLPClassifier(hidden_layer_sizes=(10, 5), activation='relu', solver='adam', random_state=42)\n",
    "model.fit(X_train, y_train)\n",
    "\n",
    "# Make predictions on the testing data\n",
    "y_pred = model.predict(X_test)\n",
    "\n",
    "# Calculate accuracy on the testing data\n",
    "accuracy = accuracy_score(y_test, y_pred)\n",
    "print(\"Accuracy on the testing data:\", accuracy)\n"
   ]
  },
  {
   "cell_type": "code",
   "execution_count": null,
   "id": "412b4af0",
   "metadata": {},
   "outputs": [],
   "source": []
  }
 ],
 "metadata": {
  "kernelspec": {
   "display_name": "Paddel_ocr_1",
   "language": "python",
   "name": "paddel_ocr_1"
  },
  "language_info": {
   "codemirror_mode": {
    "name": "ipython",
    "version": 3
   },
   "file_extension": ".py",
   "mimetype": "text/x-python",
   "name": "python",
   "nbconvert_exporter": "python",
   "pygments_lexer": "ipython3",
   "version": "3.11.3"
  }
 },
 "nbformat": 4,
 "nbformat_minor": 5
}
